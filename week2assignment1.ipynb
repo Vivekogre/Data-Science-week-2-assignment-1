{
 "cells": [
  {
   "cell_type": "code",
   "execution_count": 2,
   "id": "af5e9fc0-27fe-4778-9a9e-302ec97e925b",
   "metadata": {},
   "outputs": [
    {
     "data": {
      "text/plain": [
       "\"Q1)To write comment in python we use # or we start with ''' and end with\\n''' .\\nThere are two type of comments\\n*Firstly we have line comment that is single line comment for which we use #\\n*Secondly we have block comment that is multiple line comment for which we use ''' \""
      ]
     },
     "execution_count": 2,
     "metadata": {},
     "output_type": "execute_result"
    }
   ],
   "source": [
    "\"\"\"Q1)To write comment in python we use # or we start with ''' and end with\n",
    "''' .\n",
    "There are two type of comments\n",
    "*Firstly we have line comment that is single line comment for which we use #\n",
    "*Secondly we have block comment that is multiple line comment for which we use ''' \"\"\""
   ]
  },
  {
   "cell_type": "code",
   "execution_count": 3,
   "id": "06f19284-6772-4108-b986-b78cb03a7c0b",
   "metadata": {},
   "outputs": [
    {
     "data": {
      "text/plain": [
       "'Q2)Variables are named location to an object.Variables actually points to the address \\nor the storage location of the value of the variable.\\nTo assign values to variable we use the following syntax\\nvariable_name=value\\nPython has such an inbuilt os that it recognises the data type of the variable without\\nmentioning it'"
      ]
     },
     "execution_count": 3,
     "metadata": {},
     "output_type": "execute_result"
    }
   ],
   "source": [
    "\"\"\"Q2)Variables are named location to an object.Variables actually points to the address \n",
    "or the storage location of the value of the variable.\n",
    "To assign values to variable we use the following syntax\n",
    "variable_name=value\n",
    "Python has such an inbuilt os that it recognises the data type of the variable without\n",
    "mentioning it\"\"\""
   ]
  },
  {
   "cell_type": "code",
   "execution_count": 4,
   "id": "b769cefc-3532-480a-beb3-16a6567ffc78",
   "metadata": {},
   "outputs": [
    {
     "data": {
      "text/plain": [
       "\"Q3)In python we can directly convert one data type into another by using functions such \\nas int(),float(),str().Such conversion is known as type casting .For example\\ns='22'\\nx=int(s)\\nprint(x)\\n\\n\\nThe output would be 22 and if we find type(x) it would be int.\""
      ]
     },
     "execution_count": 4,
     "metadata": {},
     "output_type": "execute_result"
    }
   ],
   "source": [
    "\"\"\"Q3)In python we can directly convert one data type into another by using functions such \n",
    "as int(),float(),str().Such conversion is known as type casting .For example\n",
    "s='22'\n",
    "x=int(s)\n",
    "print(x)\n",
    "\n",
    "\n",
    "The output would be 22 and if we find type(x) it would be int.\"\"\""
   ]
  },
  {
   "cell_type": "code",
   "execution_count": 5,
   "id": "39663c23-2729-4bb1-be48-5f688e3b2227",
   "metadata": {},
   "outputs": [
    {
     "data": {
      "text/plain": [
       "'Q4)In order to run a python code in command line first our python interpreter\\nshould be installed.After that we open command prompt and we write python followed by the \\nfile name that ends with .py and after pressing enter we starting writing our python code'"
      ]
     },
     "execution_count": 5,
     "metadata": {},
     "output_type": "execute_result"
    }
   ],
   "source": [
    "\"\"\"Q4)In order to run a python code in command line first our python interpreter\n",
    "should be installed.After that we open command prompt and we write python followed by the \n",
    "file name that ends with .py and after pressing enter we starting writing our python code\"\"\""
   ]
  },
  {
   "cell_type": "code",
   "execution_count": 6,
   "id": "611a55d1-4988-4198-86be-11fa36680d8a",
   "metadata": {},
   "outputs": [
    {
     "data": {
      "text/plain": [
       "[2, 3]"
      ]
     },
     "execution_count": 6,
     "metadata": {},
     "output_type": "execute_result"
    }
   ],
   "source": [
    "#Q5)\n",
    "my_list=[1,2,3,4,5]\n",
    "my_list[1:3]"
   ]
  },
  {
   "cell_type": "code",
   "execution_count": 8,
   "id": "f7055d02-a636-44ae-b60b-891790128e47",
   "metadata": {},
   "outputs": [
    {
     "data": {
      "text/plain": [
       "'Q6)Complex number are set of numbers having both real part and imaginary part in it.In \\nmathematics complex numbers are represented in the form of a+ib where a and b are real \\nnumbers and i is square root of -1.a is the real part of the complex number and ib is \\nthe imaginary part of the complex number.\\n\\nIn python the physical and mathematical significance and meaning of a complex number is same\\nhowever it is represented as a+jb where the real part is a and the imaginary part is jb .'"
      ]
     },
     "execution_count": 8,
     "metadata": {},
     "output_type": "execute_result"
    }
   ],
   "source": [
    "\"\"\"Q6)Complex number are set of numbers having both real part and imaginary part in it.In \n",
    "mathematics complex numbers are represented in the form of a+ib where a and b are real \n",
    "numbers and i is square root of -1.a is the real part of the complex number and ib is \n",
    "the imaginary part of the complex number.\n",
    "\n",
    "In python the physical and mathematical significance and meaning of a complex number is same\n",
    "however it is represented as a+jb where the real part is a and the imaginary part is jb .\"\"\""
   ]
  },
  {
   "cell_type": "code",
   "execution_count": 9,
   "id": "8c63d8b3-db23-469b-bb28-749aa1bead86",
   "metadata": {},
   "outputs": [],
   "source": [
    "#Q7)\n",
    "age=25"
   ]
  },
  {
   "cell_type": "code",
   "execution_count": 12,
   "id": "7b18f214-78fc-4103-a4c1-0e325ccd70f1",
   "metadata": {},
   "outputs": [],
   "source": [
    "#Q8)\n",
    "price=9.99\n",
    "#the data type of price is float and it can be checked by using the function type(price)"
   ]
  },
  {
   "cell_type": "code",
   "execution_count": 13,
   "id": "cf03b050-ddb1-4f36-938b-2d9d7f06e633",
   "metadata": {},
   "outputs": [
    {
     "name": "stdout",
     "output_type": "stream",
     "text": [
      "VIVEK AGARWAL\n"
     ]
    }
   ],
   "source": [
    "#Q9)\n",
    "name=\"VIVEK AGARWAL\"\n",
    "print(name)"
   ]
  },
  {
   "cell_type": "code",
   "execution_count": 15,
   "id": "678e8584-133d-439b-96bd-86b2a0297050",
   "metadata": {},
   "outputs": [
    {
     "data": {
      "text/plain": [
       "'World'"
      ]
     },
     "execution_count": 15,
     "metadata": {},
     "output_type": "execute_result"
    }
   ],
   "source": [
    "#Q10)\n",
    "s=\"Hello, World!\"\n",
    "s[7:12]"
   ]
  },
  {
   "cell_type": "code",
   "execution_count": 16,
   "id": "2f5fa445-ae61-4a6a-a718-deb1a7091efa",
   "metadata": {},
   "outputs": [],
   "source": [
    "#Q11)\n",
    "is_student=True"
   ]
  }
 ],
 "metadata": {
  "kernelspec": {
   "display_name": "Python 3 (ipykernel)",
   "language": "python",
   "name": "python3"
  },
  "language_info": {
   "codemirror_mode": {
    "name": "ipython",
    "version": 3
   },
   "file_extension": ".py",
   "mimetype": "text/x-python",
   "name": "python",
   "nbconvert_exporter": "python",
   "pygments_lexer": "ipython3",
   "version": "3.10.8"
  }
 },
 "nbformat": 4,
 "nbformat_minor": 5
}
